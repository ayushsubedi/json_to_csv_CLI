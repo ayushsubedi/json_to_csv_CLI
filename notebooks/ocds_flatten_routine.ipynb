{
 "cells": [
  {
   "cell_type": "code",
   "execution_count": 4,
   "metadata": {},
   "outputs": [],
   "source": [
    "import flattentool"
   ]
  },
  {
   "cell_type": "code",
   "execution_count": 5,
   "metadata": {},
   "outputs": [],
   "source": [
    "encoding = 'utf-8-sig'\n",
    "\n",
    "flatten_tool_options = {\n",
    "    'output_format': 'csv',\n",
    "    'output_name': 'csv-script',\n",
    "    'input_format': 'json',\n",
    "    'use_titles': True,\n",
    "    'schema': 'https://standard.open-contracting.org/schema/1__1__4/release-schema.json',\n",
    "    'default_configuration': 'RootListPath releases',\n",
    "    'encoding': encoding,\n",
    "    'disable_local_refs': True,\n",
    "    'remove_empty_schema_columns': True,\n",
    "    'root_list_path': 'releases',\n",
    "    'main_sheet_name': 'releases'\n",
    "}\n",
    "# then we use the flatten method with the dict and the input file name\n",
    "flattentool.flatten(\n",
    "    'release_package.json',\n",
    "    **flatten_tool_options\n",
    ")"
   ]
  },
  {
   "cell_type": "code",
   "execution_count": null,
   "metadata": {},
   "outputs": [],
   "source": []
  }
 ],
 "metadata": {
  "kernelspec": {
   "display_name": "Python 3",
   "language": "python",
   "name": "python3"
  },
  "language_info": {
   "codemirror_mode": {
    "name": "ipython",
    "version": 3
   },
   "file_extension": ".py",
   "mimetype": "text/x-python",
   "name": "python",
   "nbconvert_exporter": "python",
   "pygments_lexer": "ipython3",
   "version": "3.8.5"
  }
 },
 "nbformat": 4,
 "nbformat_minor": 4
}
